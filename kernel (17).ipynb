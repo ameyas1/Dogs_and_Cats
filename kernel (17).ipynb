{
  "cells": [
    {
      "metadata": {
        "_uuid": "8f2839f25d086af736a60e9eeb907d3b93b6e0e5",
        "_cell_guid": "b1076dfc-b9ad-4769-8c92-a6c4dae69d19",
        "trusted": true
      },
      "cell_type": "code",
      "source": "# This Python 3 environment comes with many helpful analytics libraries installed\n# It is defined by the kaggle/python docker image: https://github.com/kaggle/docker-python\n# For example, here's several helpful packages to load in \n\nimport numpy as np # linear algebra\nimport pandas as pd # data processing, CSV file I/O (e.g. pd.read_csv)\n\n# Input data files are available in the \"../input/\" directory.\n# For example, running this (by clicking run or pressing Shift+Enter) will list the files in the input directory\n\nimport os\nprint(os.listdir(\"../input\"))\n\n# Any results you write to the current directory are saved as output.",
      "execution_count": 1,
      "outputs": [
        {
          "output_type": "stream",
          "text": "['test1', 'sampleSubmission.csv', 'train']\n",
          "name": "stdout"
        }
      ]
    },
    {
      "metadata": {
        "_cell_guid": "79c7e3d0-c299-4dcb-8224-4455121ee9b0",
        "_uuid": "d629ff2d2480ee46fbb7e2d37f6b5fab8052498a",
        "trusted": true
      },
      "cell_type": "code",
      "source": "import tensorflow as tf\nimport pandas as pd\nimport numpy as np",
      "execution_count": 2,
      "outputs": []
    },
    {
      "metadata": {
        "trusted": true,
        "_uuid": "f9ad66cfa594d584e54c5dae1fd81e6acd8a845f"
      },
      "cell_type": "code",
      "source": "from tensorflow.keras.models import Sequential\nfrom tensorflow.keras.layers import Conv2D\nfrom tensorflow.keras.layers import MaxPooling2D\nfrom tensorflow.keras.layers import Dense\nfrom tensorflow.keras.layers import Flatten,Dropout",
      "execution_count": 3,
      "outputs": []
    },
    {
      "metadata": {
        "trusted": true,
        "_uuid": "7906098fe9e6db271b72566d90682b6d84306083"
      },
      "cell_type": "code",
      "source": "classifier=Sequential()",
      "execution_count": 4,
      "outputs": []
    },
    {
      "metadata": {
        "trusted": true,
        "_uuid": "5a2dd5e0e1a953c6185363befeb3d8b64fb67e8e"
      },
      "cell_type": "code",
      "source": "classifier.add(Conv2D(filters=32, kernel_size=(3,3) , strides=(2,2) ,padding='valid', input_shape=(128,128,3),activation='relu'))\nclassifier.add(MaxPooling2D(pool_size = (2, 2)))\nclassifier.add(Dropout(0.2))",
      "execution_count": 5,
      "outputs": []
    },
    {
      "metadata": {
        "trusted": true,
        "_uuid": "80466be489be5460f53ef2086860de4024d26779"
      },
      "cell_type": "code",
      "source": "classifier.add(Conv2D(filters=64, kernel_size=(3,3) , strides=(2,2) ,padding='valid',activation='relu'))\nclassifier.add(MaxPooling2D(pool_size = (2, 2),strides=(1,1)))\nclassifier.add(Dropout(0.2))",
      "execution_count": 6,
      "outputs": []
    },
    {
      "metadata": {
        "trusted": true,
        "_uuid": "cf39433bf75d610389f30a5938540296d523f3db"
      },
      "cell_type": "code",
      "source": "classifier.add(Conv2D(filters=128, kernel_size=(1,1) , strides=(1,1) ,padding='valid',activation='relu'))\nclassifier.add(MaxPooling2D(pool_size = (2, 2)))\nclassifier.add(Dropout(0.2))",
      "execution_count": 7,
      "outputs": []
    },
    {
      "metadata": {
        "trusted": true,
        "_uuid": "c4981ea00d15945c825643867a1171d902f8fad6"
      },
      "cell_type": "code",
      "source": "classifier.add(Flatten())",
      "execution_count": 8,
      "outputs": []
    },
    {
      "metadata": {
        "trusted": true,
        "_uuid": "00f972eddb143fe38759df724aaeb975788e7777"
      },
      "cell_type": "code",
      "source": "classifier.add(Dense(units=512, activation='relu' ))\nclassifier.add(Dropout(0.2))",
      "execution_count": 9,
      "outputs": []
    },
    {
      "metadata": {
        "trusted": true,
        "_uuid": "e1da8eea0168967970e66640a6f614e8e59a5b17"
      },
      "cell_type": "code",
      "source": "classifier.add(Dense(units=100, activation='relu' ))\nclassifier.add(Dropout(0.2))",
      "execution_count": 10,
      "outputs": []
    },
    {
      "metadata": {
        "trusted": true,
        "_uuid": "f7e14d9c4a4a14a390964bbd0d46fa4ab48ca7f6"
      },
      "cell_type": "code",
      "source": "classifier.add(Dense(units=1, activation='sigmoid' ))",
      "execution_count": 12,
      "outputs": []
    },
    {
      "metadata": {
        "trusted": true,
        "_uuid": "26af2343eddae458e7a98bef0daa5c8c06117993"
      },
      "cell_type": "code",
      "source": "classifier.compile(optimizer='adam',loss='binary_crossentropy',metrics=['accuracy'])",
      "execution_count": 13,
      "outputs": []
    },
    {
      "metadata": {
        "trusted": true,
        "_uuid": "835d8934b00c8c612fa07070e9a7fb9ff2217050"
      },
      "cell_type": "code",
      "source": "classifier.summary()",
      "execution_count": 14,
      "outputs": [
        {
          "output_type": "stream",
          "text": "_________________________________________________________________\nLayer (type)                 Output Shape              Param #   \n=================================================================\nconv2d (Conv2D)              (None, 63, 63, 32)        896       \n_________________________________________________________________\nmax_pooling2d (MaxPooling2D) (None, 31, 31, 32)        0         \n_________________________________________________________________\ndropout (Dropout)            (None, 31, 31, 32)        0         \n_________________________________________________________________\nconv2d_1 (Conv2D)            (None, 15, 15, 64)        18496     \n_________________________________________________________________\nmax_pooling2d_1 (MaxPooling2 (None, 14, 14, 64)        0         \n_________________________________________________________________\ndropout_1 (Dropout)          (None, 14, 14, 64)        0         \n_________________________________________________________________\nconv2d_2 (Conv2D)            (None, 14, 14, 128)       8320      \n_________________________________________________________________\nmax_pooling2d_2 (MaxPooling2 (None, 7, 7, 128)         0         \n_________________________________________________________________\ndropout_2 (Dropout)          (None, 7, 7, 128)         0         \n_________________________________________________________________\nflatten (Flatten)            (None, 6272)              0         \n_________________________________________________________________\ndense (Dense)                (None, 512)               3211776   \n_________________________________________________________________\ndropout_3 (Dropout)          (None, 512)               0         \n_________________________________________________________________\ndense_1 (Dense)              (None, 100)               51300     \n_________________________________________________________________\ndropout_4 (Dropout)          (None, 100)               0         \n_________________________________________________________________\ndense_2 (Dense)              (None, 1)                 101       \n=================================================================\nTotal params: 3,290,889\nTrainable params: 3,290,889\nNon-trainable params: 0\n_________________________________________________________________\n",
          "name": "stdout"
        }
      ]
    },
    {
      "metadata": {
        "trusted": true,
        "_uuid": "34b9ea87eb82b2c028cf26ff0e57f41a2d3efefe"
      },
      "cell_type": "code",
      "source": "from tensorflow.keras.preprocessing.image import ImageDataGenerator\n\ntrain_datagen = ImageDataGenerator(\n        rescale=1./255,\n        shear_range=0.2,\n        zoom_range=0.2,\n        horizontal_flip=True)\n\ntest_datagen = ImageDataGenerator(rescale=1./255)",
      "execution_count": 15,
      "outputs": []
    },
    {
      "metadata": {
        "trusted": true,
        "_uuid": "5d3e2b3b9f0e84bc0176b6852bc3b734f56efa8e"
      },
      "cell_type": "code",
      "source": "train_set = train_datagen.flow_from_directory(\n        '../input/train',\n        target_size=(128, 128),\n        batch_size=16,\n        class_mode='binary')",
      "execution_count": 16,
      "outputs": [
        {
          "output_type": "stream",
          "text": "Found 25000 images belonging to 1 classes.\n",
          "name": "stdout"
        }
      ]
    },
    {
      "metadata": {
        "trusted": true,
        "_uuid": "09f4c0c569bb0bd684dd0c4215e9597978e79600"
      },
      "cell_type": "code",
      "source": "test_set = test_datagen.flow_from_directory(\n        '../input/test1',\n        target_size=(128, 128),\n        batch_size=16,\n        class_mode='binary')",
      "execution_count": 17,
      "outputs": [
        {
          "output_type": "stream",
          "text": "Found 12500 images belonging to 1 classes.\n",
          "name": "stdout"
        }
      ]
    },
    {
      "metadata": {
        "trusted": true,
        "_uuid": "07a7864bf1266fb94ab3b7ecde493607720626d5"
      },
      "cell_type": "code",
      "source": "classifier.fit_generator(\n        train_set,\n        steps_per_epoch=25000,\n        epochs=1,\n        validation_data=test_set,\n        validation_steps=12500)",
      "execution_count": 18,
      "outputs": [
        {
          "output_type": "stream",
          "text": "Epoch 1/1\n25000/25000 [==============================] - 5740s 230ms/step - loss: 2.7590e-05 - acc: 1.0000 - val_loss: 1.0000e-07 - val_acc: 1.0000\n",
          "name": "stdout"
        },
        {
          "output_type": "execute_result",
          "execution_count": 18,
          "data": {
            "text/plain": "<tensorflow.python.keras.callbacks.History at 0x7fbae87dcda0>"
          },
          "metadata": {}
        }
      ]
    },
    {
      "metadata": {
        "trusted": true,
        "_uuid": "0305c01e24a361163c6b4283c515e32ce95e39bd"
      },
      "cell_type": "code",
      "source": "classifier.save('./cad1.h5')",
      "execution_count": 22,
      "outputs": []
    },
    {
      "metadata": {
        "trusted": true,
        "_uuid": "3fc44151b417dc55013df07c0aa497c3d0c98b19"
      },
      "cell_type": "code",
      "source": "",
      "execution_count": null,
      "outputs": []
    }
  ],
  "metadata": {
    "kernelspec": {
      "display_name": "Python 3",
      "language": "python",
      "name": "python3"
    },
    "language_info": {
      "name": "python",
      "version": "3.6.6",
      "mimetype": "text/x-python",
      "codemirror_mode": {
        "name": "ipython",
        "version": 3
      },
      "pygments_lexer": "ipython3",
      "nbconvert_exporter": "python",
      "file_extension": ".py"
    }
  },
  "nbformat": 4,
  "nbformat_minor": 1
}