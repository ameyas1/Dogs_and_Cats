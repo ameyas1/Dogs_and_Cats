{
  "cells": [
    {
      "metadata": {
        "_cell_guid": "b1076dfc-b9ad-4769-8c92-a6c4dae69d19",
        "_uuid": "8f2839f25d086af736a60e9eeb907d3b93b6e0e5",
        "trusted": true
      },
      "cell_type": "code",
      "source": "# This Python 3 environment comes with many helpful analytics libraries installed\n# It is defined by the kaggle/python docker image: https://github.com/kaggle/docker-python\n# For example, here's several helpful packages to load in \n\nimport numpy as np # linear algebra\nimport pandas as pd # data processing, CSV file I/O (e.g. pd.read_csv)\n\n# Input data files are available in the \"../input/\" directory.\n# For example, running this (by clicking run or pressing Shift+Enter) will list the files in the input directory\n\nimport os\nprint(os.listdir(\"../input/training_set\"))\n\n# Any results you write to the current directory are saved as output.",
      "execution_count": 37,
      "outputs": [
        {
          "output_type": "stream",
          "text": "['training_set']\n",
          "name": "stdout"
        }
      ]
    },
    {
      "metadata": {
        "_cell_guid": "79c7e3d0-c299-4dcb-8224-4455121ee9b0",
        "_uuid": "d629ff2d2480ee46fbb7e2d37f6b5fab8052498a",
        "trusted": true
      },
      "cell_type": "code",
      "source": "import tensorflow as tf\nimport pandas as pd\nimport numpy as np",
      "execution_count": 38,
      "outputs": []
    },
    {
      "metadata": {
        "_uuid": "f9ad66cfa594d584e54c5dae1fd81e6acd8a845f",
        "trusted": true
      },
      "cell_type": "code",
      "source": "from tensorflow.keras.models import Sequential\nfrom tensorflow.keras.layers import Conv2D\nfrom tensorflow.keras.layers import MaxPooling2D\nfrom tensorflow.keras.layers import Dense\nfrom tensorflow.keras.layers import Flatten,Dropout",
      "execution_count": 39,
      "outputs": []
    },
    {
      "metadata": {
        "_uuid": "7906098fe9e6db271b72566d90682b6d84306083",
        "trusted": true
      },
      "cell_type": "code",
      "source": "classifier=Sequential()",
      "execution_count": 40,
      "outputs": []
    },
    {
      "metadata": {
        "_uuid": "5a2dd5e0e1a953c6185363befeb3d8b64fb67e8e",
        "trusted": true
      },
      "cell_type": "code",
      "source": "classifier.add(Conv2D(filters=16, kernel_size=(4,4) , strides=(2,2) ,padding='valid', input_shape=(128,128,3),activation='relu'))\nclassifier.add(MaxPooling2D(pool_size = (2, 2),strides=(1,1)))\nclassifier.add(Dropout(0.2))",
      "execution_count": 41,
      "outputs": []
    },
    {
      "metadata": {
        "_uuid": "80466be489be5460f53ef2086860de4024d26779",
        "trusted": true
      },
      "cell_type": "code",
      "source": "classifier.add(Conv2D(filters=32, kernel_size=(4,4) , strides=(1,1) ,padding='valid',activation='relu'))\nclassifier.add(MaxPooling2D(pool_size = (3, 3),strides=(2,2)))\nclassifier.add(Dropout(0.2))",
      "execution_count": 42,
      "outputs": []
    },
    {
      "metadata": {
        "_uuid": "cf39433bf75d610389f30a5938540296d523f3db",
        "trusted": true
      },
      "cell_type": "code",
      "source": "classifier.add(Conv2D(filters=64, kernel_size=(3,3) , strides=(2,2) ,padding='valid',activation='relu'))\nclassifier.add(MaxPooling2D(pool_size = (2, 2)))\nclassifier.add(Dropout(0.2))",
      "execution_count": 43,
      "outputs": []
    },
    {
      "metadata": {
        "trusted": true,
        "_uuid": "4ffadf4b49b87f682e11365b40fb2de8c18a5398"
      },
      "cell_type": "code",
      "source": "classifier.add(Conv2D(filters=128, kernel_size=(1,1) , strides=(1,1) ,padding='valid',activation='relu'))\nclassifier.add(MaxPooling2D(pool_size = (3,3),strides=(1,1)))\nclassifier.add(Dropout(0.2))",
      "execution_count": 44,
      "outputs": []
    },
    {
      "metadata": {
        "_uuid": "c4981ea00d15945c825643867a1171d902f8fad6",
        "trusted": true
      },
      "cell_type": "code",
      "source": "classifier.add(Flatten())",
      "execution_count": 45,
      "outputs": []
    },
    {
      "metadata": {
        "_uuid": "00f972eddb143fe38759df724aaeb975788e7777",
        "trusted": true
      },
      "cell_type": "code",
      "source": "classifier.add(Dense(units=512, activation='relu' ))\nclassifier.add(Dropout(0.2))",
      "execution_count": 46,
      "outputs": []
    },
    {
      "metadata": {
        "_uuid": "e1da8eea0168967970e66640a6f614e8e59a5b17",
        "trusted": true
      },
      "cell_type": "code",
      "source": "classifier.add(Dense(units=100, activation='relu' ))\nclassifier.add(Dropout(0.2))",
      "execution_count": 47,
      "outputs": []
    },
    {
      "metadata": {
        "_uuid": "f7e14d9c4a4a14a390964bbd0d46fa4ab48ca7f6",
        "trusted": true
      },
      "cell_type": "code",
      "source": "classifier.add(Dense(units=1, activation='sigmoid' ))",
      "execution_count": 48,
      "outputs": []
    },
    {
      "metadata": {
        "_uuid": "26af2343eddae458e7a98bef0daa5c8c06117993",
        "trusted": true
      },
      "cell_type": "code",
      "source": "classifier.compile(optimizer='adam',loss='binary_crossentropy',metrics=['accuracy'])",
      "execution_count": 49,
      "outputs": []
    },
    {
      "metadata": {
        "_uuid": "835d8934b00c8c612fa07070e9a7fb9ff2217050",
        "trusted": true
      },
      "cell_type": "code",
      "source": "classifier.summary()",
      "execution_count": 50,
      "outputs": [
        {
          "output_type": "stream",
          "text": "_________________________________________________________________\nLayer (type)                 Output Shape              Param #   \n=================================================================\nconv2d_12 (Conv2D)           (None, 63, 63, 16)        784       \n_________________________________________________________________\nmax_pooling2d_12 (MaxPooling (None, 62, 62, 16)        0         \n_________________________________________________________________\ndropout_18 (Dropout)         (None, 62, 62, 16)        0         \n_________________________________________________________________\nconv2d_13 (Conv2D)           (None, 59, 59, 32)        8224      \n_________________________________________________________________\nmax_pooling2d_13 (MaxPooling (None, 29, 29, 32)        0         \n_________________________________________________________________\ndropout_19 (Dropout)         (None, 29, 29, 32)        0         \n_________________________________________________________________\nconv2d_14 (Conv2D)           (None, 14, 14, 64)        18496     \n_________________________________________________________________\nmax_pooling2d_14 (MaxPooling (None, 7, 7, 64)          0         \n_________________________________________________________________\ndropout_20 (Dropout)         (None, 7, 7, 64)          0         \n_________________________________________________________________\nconv2d_15 (Conv2D)           (None, 7, 7, 128)         8320      \n_________________________________________________________________\nmax_pooling2d_15 (MaxPooling (None, 5, 5, 128)         0         \n_________________________________________________________________\ndropout_21 (Dropout)         (None, 5, 5, 128)         0         \n_________________________________________________________________\nflatten_3 (Flatten)          (None, 3200)              0         \n_________________________________________________________________\ndense_9 (Dense)              (None, 512)               1638912   \n_________________________________________________________________\ndropout_22 (Dropout)         (None, 512)               0         \n_________________________________________________________________\ndense_10 (Dense)             (None, 100)               51300     \n_________________________________________________________________\ndropout_23 (Dropout)         (None, 100)               0         \n_________________________________________________________________\ndense_11 (Dense)             (None, 1)                 101       \n=================================================================\nTotal params: 1,726,137\nTrainable params: 1,726,137\nNon-trainable params: 0\n_________________________________________________________________\n",
          "name": "stdout"
        }
      ]
    },
    {
      "metadata": {
        "_uuid": "34b9ea87eb82b2c028cf26ff0e57f41a2d3efefe",
        "trusted": true
      },
      "cell_type": "code",
      "source": "from tensorflow.keras.preprocessing.image import ImageDataGenerator\n\ntrain_datagen = ImageDataGenerator(\n        rescale=1./255,\n        shear_range=0.2,\n        zoom_range=0.2,\n        horizontal_flip=True)\n\ntest_datagen = ImageDataGenerator(rescale=1./255)",
      "execution_count": 51,
      "outputs": []
    },
    {
      "metadata": {
        "_uuid": "5d3e2b3b9f0e84bc0176b6852bc3b734f56efa8e",
        "trusted": true
      },
      "cell_type": "code",
      "source": "train_set = train_datagen.flow_from_directory(\n        '../input/training_set/training_set',\n        target_size=(128, 128),\n        batch_size=16,\n        class_mode='binary')",
      "execution_count": 52,
      "outputs": [
        {
          "output_type": "stream",
          "text": "Found 8005 images belonging to 2 classes.\n",
          "name": "stdout"
        }
      ]
    },
    {
      "metadata": {
        "_uuid": "09f4c0c569bb0bd684dd0c4215e9597978e79600",
        "trusted": true
      },
      "cell_type": "code",
      "source": "test_set = test_datagen.flow_from_directory(\n        '../input/test_set/test_set',\n        target_size=(128, 128),\n        batch_size=16,\n        class_mode='binary')",
      "execution_count": 53,
      "outputs": [
        {
          "output_type": "stream",
          "text": "Found 2023 images belonging to 2 classes.\n",
          "name": "stdout"
        }
      ]
    },
    {
      "metadata": {
        "_uuid": "07a7864bf1266fb94ab3b7ecde493607720626d5",
        "trusted": true
      },
      "cell_type": "code",
      "source": "classifier.fit_generator(\n        train_set,\n        steps_per_epoch=8005,\n        epochs=4,\n        validation_data=test_set,\n        validation_steps=2023)",
      "execution_count": 54,
      "outputs": [
        {
          "output_type": "stream",
          "text": "Epoch 1/2\n8005/8005 [==============================] - 915s 114ms/step - loss: 0.6057 - acc: 0.6548 - val_loss: 0.4920 - val_acc: 0.7761\nEpoch 2/2\n8005/8005 [==============================] - 891s 111ms/step - loss: 0.4784 - acc: 0.7710 - val_loss: 0.4253 - val_acc: 0.8169\n",
          "name": "stdout"
        },
        {
          "output_type": "execute_result",
          "execution_count": 54,
          "data": {
            "text/plain": "<tensorflow.python.keras.callbacks.History at 0x7feba6d20940>"
          },
          "metadata": {}
        }
      ]
    },
    {
      "metadata": {
        "_uuid": "0305c01e24a361163c6b4283c515e32ce95e39bd",
        "trusted": true
      },
      "cell_type": "code",
      "source": "classifier.save('./cat_and_dog_new.h5')",
      "execution_count": null,
      "outputs": []
    },
    {
      "metadata": {
        "_uuid": "3fc44151b417dc55013df07c0aa497c3d0c98b19",
        "trusted": false
      },
      "cell_type": "code",
      "source": "",
      "execution_count": null,
      "outputs": []
    }
  ],
  "metadata": {
    "kernelspec": {
      "display_name": "Python 3",
      "language": "python",
      "name": "python3"
    },
    "language_info": {
      "name": "python",
      "version": "3.6.6",
      "mimetype": "text/x-python",
      "codemirror_mode": {
        "name": "ipython",
        "version": 3
      },
      "pygments_lexer": "ipython3",
      "nbconvert_exporter": "python",
      "file_extension": ".py"
    }
  },
  "nbformat": 4,
  "nbformat_minor": 1
}